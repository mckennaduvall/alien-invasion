{
 "cells": [
  {
   "cell_type": "code",
   "execution_count": null,
   "metadata": {},
   "outputs": [],
   "source": [
    "#import dependencies\n",
    "\n",
    "import sys\n",
    "import pygame\n",
    "from settings import Settings"
   ]
  },
  {
   "cell_type": "code",
   "execution_count": null,
   "metadata": {},
   "outputs": [],
   "source": [
    "#create class to manage game assests and behavior\n",
    "class AlienInvasion:\n",
    "\n",
    "#initialize game \n",
    "    def __init__(self):\n",
    "               \n",
    "        pygame.init()\n",
    "        \n",
    "        self.settings = Settings()\n",
    "    \n",
    "        self.screen = pygame.display.set_mode((self.settings.screen_width, self.settings.screen_height))\n",
    "        \n",
    "        pygame.display.set_caption(\"Alien Invasion\")\n",
    "        \n",
    "        self.bg_color = (127,255,212)\n",
    "        \n",
    "        self.screen.fill(self.settings.bg_color)\n",
    "        \n",
    "    def run_game(self):\n",
    "        \n",
    "        while True:\n",
    "            \n",
    "            for event in pygame.event.get():\n",
    "                \n",
    "                if event.type == pygame.QUIT:\n",
    "                    sys.exit\n",
    "                    \n",
    "            pygame.display.flip()\n",
    "            \n",
    "if __name__ == '__main__':\n",
    "    \n",
    "    ai = AlienInvasion()\n",
    "    ai.run_game()"
   ]
  },
  {
   "cell_type": "code",
   "execution_count": null,
   "metadata": {},
   "outputs": [],
   "source": []
  }
 ],
 "metadata": {
  "kernelspec": {
   "display_name": "Python 3",
   "language": "python",
   "name": "python3"
  },
  "language_info": {
   "codemirror_mode": {
    "name": "ipython",
    "version": 3
   },
   "file_extension": ".py",
   "mimetype": "text/x-python",
   "name": "python",
   "nbconvert_exporter": "python",
   "pygments_lexer": "ipython3",
   "version": "3.8.5"
  }
 },
 "nbformat": 4,
 "nbformat_minor": 4
}
